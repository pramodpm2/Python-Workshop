{
  "nbformat": 4,
  "nbformat_minor": 0,
  "metadata": {
    "colab": {
      "name": "Day 3 session  sample.ipynb",
      "provenance": [],
      "include_colab_link": true
    },
    "kernelspec": {
      "name": "python3",
      "display_name": "Python 3"
    }
  },
  "cells": [
    {
      "cell_type": "markdown",
      "metadata": {
        "id": "view-in-github",
        "colab_type": "text"
      },
      "source": [
        "<a href=\"https://colab.research.google.com/github/pramodpm2/Python-Workshop/blob/master/Day_3_session_sample.ipynb\" target=\"_parent\"><img src=\"https://colab.research.google.com/assets/colab-badge.svg\" alt=\"Open In Colab\"/></a>"
      ]
    },
    {
      "cell_type": "markdown",
      "metadata": {
        "id": "CmBu2zE4QPVF",
        "colab_type": "text"
      },
      "source": [
        "**Program for prime number -bad code**\n",
        "\n"
      ]
    },
    {
      "cell_type": "code",
      "metadata": {
        "id": "jM6eCnyrQJ7o",
        "colab_type": "code",
        "colab": {
          "base_uri": "https://localhost:8080/",
          "height": 34
        },
        "outputId": "aacd7a81-862c-4599-a0dc-9ca3ee0ddbe5"
      },
      "source": [
        "i=25\n",
        "for x in range(2, i//2+1):\n",
        "  if i%x==0:\n",
        "   print(\"The number {} is not prime\".format(i))\n",
        "   break\n",
        "if x ==i//2:\n",
        "  print (\"{} is a prime number\".format(i))"
      ],
      "execution_count": 1,
      "outputs": [
        {
          "output_type": "stream",
          "text": [
            "The number 25 is not prime\n"
          ],
          "name": "stdout"
        }
      ]
    },
    {
      "cell_type": "markdown",
      "metadata": {
        "id": "0xLhyOglQsQ8",
        "colab_type": "text"
      },
      "source": [
        "**Good code using for... else**"
      ]
    },
    {
      "cell_type": "code",
      "metadata": {
        "id": "S1DHg6LcQfOe",
        "colab_type": "code",
        "colab": {
          "base_uri": "https://localhost:8080/",
          "height": 34
        },
        "outputId": "f6b2804f-3222-4b1d-f7d2-33996ea79059"
      },
      "source": [
        "i=25\n",
        "for x in range(2, i//2+1):\n",
        " if i%x==0:\n",
        "  print(\"The number {} is not prime\".format(i))\n",
        "  break\n",
        "else:\n",
        "  print (\"{} is a prime number\".format(i))"
      ],
      "execution_count": 2,
      "outputs": [
        {
          "output_type": "stream",
          "text": [
            "The number 25 is not prime\n"
          ],
          "name": "stdout"
        }
      ]
    },
    {
      "cell_type": "markdown",
      "metadata": {
        "id": "qUd2gzlNSR5P",
        "colab_type": "text"
      },
      "source": [
        "**Using Unpacking to Write Concise Code**"
      ]
    },
    {
      "cell_type": "code",
      "metadata": {
        "id": "kDjhSPH2Qdkq",
        "colab_type": "code",
        "colab": {
          "base_uri": "https://localhost:8080/",
          "height": 51
        },
        "outputId": "35d6d930-4aa6-4f31-e77a-c2e27f79cb7e"
      },
      "source": [
        "a, b = 2, 'my-string'\n",
        "print(a)\n",
        "print(b)"
      ],
      "execution_count": 3,
      "outputs": [
        {
          "output_type": "stream",
          "text": [
            "2\n",
            "my-string\n"
          ],
          "name": "stdout"
        }
      ]
    },
    {
      "cell_type": "markdown",
      "metadata": {
        "id": "p2RpovaZSew6",
        "colab_type": "text"
      },
      "source": [
        "**Bad unpacking**"
      ]
    },
    {
      "cell_type": "code",
      "metadata": {
        "id": "PpbMZknISjZD",
        "colab_type": "code",
        "colab": {
          "base_uri": "https://localhost:8080/",
          "height": 34
        },
        "outputId": "c5a2cad4-e41b-401f-fd0e-3f20fa1ea7d9"
      },
      "source": [
        "x = (1, 2, 4, 8, 16)\n",
        "a = x[0]\n",
        "b = x[1]\n",
        "c = x[2]\n",
        "d = x[3]\n",
        "e = x[4]\n",
        "print(a, b, c, d, e)"
      ],
      "execution_count": 4,
      "outputs": [
        {
          "output_type": "stream",
          "text": [
            "1 2 4 8 16\n"
          ],
          "name": "stdout"
        }
      ]
    },
    {
      "cell_type": "markdown",
      "metadata": {
        "id": "F9LPFMToSpNa",
        "colab_type": "text"
      },
      "source": [
        "**Excellent unpacking**"
      ]
    },
    {
      "cell_type": "code",
      "metadata": {
        "id": "0IEFjM1_StR_",
        "colab_type": "code",
        "colab": {
          "base_uri": "https://localhost:8080/",
          "height": 34
        },
        "outputId": "1cbd96e8-bf79-49cf-8249-670a7541f9d7"
      },
      "source": [
        "a,b,c,d,e=x\n",
        "print(a, b, c, d, e)"
      ],
      "execution_count": 5,
      "outputs": [
        {
          "output_type": "stream",
          "text": [
            "1 2 4 8 16\n"
          ],
          "name": "stdout"
        }
      ]
    },
    {
      "cell_type": "markdown",
      "metadata": {
        "id": "xpI2qddPS1RC",
        "colab_type": "text"
      },
      "source": [
        "**unpacking some elements**"
      ]
    },
    {
      "cell_type": "code",
      "metadata": {
        "id": "wE3MS_F5SyHQ",
        "colab_type": "code",
        "colab": {
          "base_uri": "https://localhost:8080/",
          "height": 68
        },
        "outputId": "50ac7d0a-c458-49dd-99ab-ae0f4da3d0f0"
      },
      "source": [
        "a, *y, e = x\n",
        "print(a)\n",
        "print(y)\n",
        "print(e)"
      ],
      "execution_count": 6,
      "outputs": [
        {
          "output_type": "stream",
          "text": [
            "1\n",
            "[2, 4, 8]\n",
            "16\n"
          ],
          "name": "stdout"
        }
      ]
    },
    {
      "cell_type": "markdown",
      "metadata": {
        "id": "6zYO5r7Ru_fM",
        "colab_type": "text"
      },
      "source": [
        "**Using Chaining to Write Concise Code**"
      ]
    },
    {
      "cell_type": "code",
      "metadata": {
        "id": "4fnkKKM5vrPa",
        "colab_type": "code",
        "colab": {
          "base_uri": "https://localhost:8080/",
          "height": 34
        },
        "outputId": "ec98b928-8977-44e5-8244-d2d19cb21f49"
      },
      "source": [
        "x = 4\n",
        "print(x >= 2 and x <= 3)"
      ],
      "execution_count": 7,
      "outputs": [
        {
          "output_type": "stream",
          "text": [
            "False\n"
          ],
          "name": "stdout"
        }
      ]
    },
    {
      "cell_type": "markdown",
      "metadata": {
        "id": "5Z8Y8KdOwE1d",
        "colab_type": "text"
      },
      "source": [
        "**Instead, you can write this in a more compact form, like mathematicians do**"
      ]
    },
    {
      "cell_type": "code",
      "metadata": {
        "id": "6ufgLbr9wL7v",
        "colab_type": "code",
        "colab": {
          "base_uri": "https://localhost:8080/",
          "height": 51
        },
        "outputId": "acb29823-2704-40fa-949e-0234a1c76039"
      },
      "source": [
        "print(2 <= x <= 8)\n",
        "print(2 <= x <= 3)"
      ],
      "execution_count": 8,
      "outputs": [
        {
          "output_type": "stream",
          "text": [
            "True\n",
            "False\n"
          ],
          "name": "stdout"
        }
      ]
    },
    {
      "cell_type": "markdown",
      "metadata": {
        "id": "r6BaXxfUwTsp",
        "colab_type": "text"
      },
      "source": [
        "**chained assignments**"
      ]
    },
    {
      "cell_type": "code",
      "metadata": {
        "id": "4F1XmjHRwWqL",
        "colab_type": "code",
        "colab": {
          "base_uri": "https://localhost:8080/",
          "height": 34
        },
        "outputId": "1ec360ad-0567-47fe-eaaf-9f901f92a1c9"
      },
      "source": [
        "x = y = z = 2\n",
        "x, y, z # when we use , it becomes tuple"
      ],
      "execution_count": 9,
      "outputs": [
        {
          "output_type": "execute_result",
          "data": {
            "text/plain": [
              "(2, 2, 2)"
            ]
          },
          "metadata": {
            "tags": []
          },
          "execution_count": 9
        }
      ]
    },
    {
      "cell_type": "markdown",
      "metadata": {
        "id": "_H79cyo9wgBq",
        "colab_type": "text"
      },
      "source": [
        "**Checking against None**"
      ]
    },
    {
      "cell_type": "code",
      "metadata": {
        "id": "W8G-KqunwnVi",
        "colab_type": "code",
        "colab": {
          "base_uri": "https://localhost:8080/",
          "height": 85
        },
        "outputId": "caa2becf-ad00-44c5-9883-177c39cf5542"
      },
      "source": [
        "# normal way\n",
        "x, y = 2, None\n",
        "print(x == None)\n",
        "print(y == None)\n",
        "print(x != None)\n",
        "print(y != None)"
      ],
      "execution_count": 10,
      "outputs": [
        {
          "output_type": "stream",
          "text": [
            "False\n",
            "True\n",
            "True\n",
            "False\n"
          ],
          "name": "stdout"
        }
      ]
    },
    {
      "cell_type": "markdown",
      "metadata": {
        "id": "b5A8bxhvwt3p",
        "colab_type": "text"
      },
      "source": [
        "**In pythonic way**\n"
      ]
    },
    {
      "cell_type": "code",
      "metadata": {
        "id": "K9u62TGnwwjH",
        "colab_type": "code",
        "colab": {
          "base_uri": "https://localhost:8080/",
          "height": 85
        },
        "outputId": "d8f5321a-aa35-4c18-f220-97a286588ac0"
      },
      "source": [
        "x is None\n",
        "print(x is None)\n",
        "print(y is None)\n",
        "print(x is not None)\n",
        "print(y is not None)"
      ],
      "execution_count": 11,
      "outputs": [
        {
          "output_type": "stream",
          "text": [
            "False\n",
            "True\n",
            "True\n",
            "False\n"
          ],
          "name": "stdout"
        }
      ]
    },
    {
      "cell_type": "markdown",
      "metadata": {
        "id": "3sC5e7lmwyMv",
        "colab_type": "text"
      },
      "source": [
        "**Iterating over Sequences**"
      ]
    },
    {
      "cell_type": "code",
      "metadata": {
        "id": "i6GZ2qoQw1K2",
        "colab_type": "code",
        "colab": {
          "base_uri": "https://localhost:8080/",
          "height": 102
        },
        "outputId": "fc97d704-1a2a-47ce-df23-1efeafb2b70a"
      },
      "source": [
        "x = [1, 2, 4, 8, 16]\n",
        "for i in range(len(x)):\n",
        " print(x[i])"
      ],
      "execution_count": 12,
      "outputs": [
        {
          "output_type": "stream",
          "text": [
            "1\n",
            "2\n",
            "4\n",
            "8\n",
            "16\n"
          ],
          "name": "stdout"
        }
      ]
    },
    {
      "cell_type": "markdown",
      "metadata": {
        "id": "Lz9bST4Zw54Y",
        "colab_type": "text"
      },
      "source": [
        "**But instead we can do like this in elegant way**"
      ]
    },
    {
      "cell_type": "code",
      "metadata": {
        "id": "nTwg8I8bw8z_",
        "colab_type": "code",
        "colab": {
          "base_uri": "https://localhost:8080/",
          "height": 102
        },
        "outputId": "8477f470-8231-4162-a771-202480b45cc6"
      },
      "source": [
        "for item in x:\n",
        " print(item)"
      ],
      "execution_count": 13,
      "outputs": [
        {
          "output_type": "stream",
          "text": [
            "1\n",
            "2\n",
            "4\n",
            "8\n",
            "16\n"
          ],
          "name": "stdout"
        }
      ]
    },
    {
      "cell_type": "markdown",
      "metadata": {
        "id": "-g1U1IhuxELY",
        "colab_type": "text"
      },
      "source": [
        "**to iterate in the reversed order**"
      ]
    },
    {
      "cell_type": "code",
      "metadata": {
        "id": "y1C7jX1DxH_L",
        "colab_type": "code",
        "colab": {
          "base_uri": "https://localhost:8080/",
          "height": 102
        },
        "outputId": "cd6dda9f-5aba-4b9c-a898-eca27ecdb231"
      },
      "source": [
        "for i in range(len(x)-1, -1, -1):\n",
        " print(x[i])"
      ],
      "execution_count": 14,
      "outputs": [
        {
          "output_type": "stream",
          "text": [
            "16\n",
            "8\n",
            "4\n",
            "2\n",
            "1\n"
          ],
          "name": "stdout"
        }
      ]
    },
    {
      "cell_type": "markdown",
      "metadata": {
        "id": "uacn51mTxMxg",
        "colab_type": "text"
      },
      "source": [
        "**But in elegant way!**"
      ]
    },
    {
      "cell_type": "code",
      "metadata": {
        "id": "RUqJ2WmnxPYx",
        "colab_type": "code",
        "colab": {
          "base_uri": "https://localhost:8080/",
          "height": 102
        },
        "outputId": "88f080e2-236f-4235-d4d1-20574c56b05e"
      },
      "source": [
        "for item in x[::-1]:\n",
        "  print(item)"
      ],
      "execution_count": 15,
      "outputs": [
        {
          "output_type": "stream",
          "text": [
            "16\n",
            "8\n",
            "4\n",
            "2\n",
            "1\n"
          ],
          "name": "stdout"
        }
      ]
    },
    {
      "cell_type": "markdown",
      "metadata": {
        "id": "7TNTSv5YxX2y",
        "colab_type": "text"
      },
      "source": [
        "**The Pythonic way is to use reversed to get an iterator that yields the items of a sequence in the reversed order:**"
      ]
    },
    {
      "cell_type": "code",
      "metadata": {
        "id": "ZJFUmxssxdh2",
        "colab_type": "code",
        "colab": {
          "base_uri": "https://localhost:8080/",
          "height": 102
        },
        "outputId": "38182077-ba89-4bf5-8d8c-c5d5f2c68a50"
      },
      "source": [
        "for item in reversed(x):\n",
        " print(item)"
      ],
      "execution_count": 16,
      "outputs": [
        {
          "output_type": "stream",
          "text": [
            "16\n",
            "8\n",
            "4\n",
            "2\n",
            "1\n"
          ],
          "name": "stdout"
        }
      ]
    },
    {
      "cell_type": "markdown",
      "metadata": {
        "id": "xkTFbi_2xju3",
        "colab_type": "text"
      },
      "source": [
        "**Sometimes you need both the items from a sequence and the corresponding indices**"
      ]
    },
    {
      "cell_type": "code",
      "metadata": {
        "id": "pnIZePV1xpQQ",
        "colab_type": "code",
        "colab": {
          "base_uri": "https://localhost:8080/",
          "height": 102
        },
        "outputId": "c62ead31-f709-48a5-fec6-36afd80a8761"
      },
      "source": [
        "for i in range(len(x)):\n",
        " print(i, x[i])"
      ],
      "execution_count": 17,
      "outputs": [
        {
          "output_type": "stream",
          "text": [
            "0 1\n",
            "1 2\n",
            "2 4\n",
            "3 8\n",
            "4 16\n"
          ],
          "name": "stdout"
        }
      ]
    },
    {
      "cell_type": "markdown",
      "metadata": {
        "id": "fmS5fUmLxs6h",
        "colab_type": "text"
      },
      "source": [
        "**It’s better to use enumerate to get another iterator that yields the tuples with the indices and items**"
      ]
    },
    {
      "cell_type": "code",
      "metadata": {
        "id": "pR2HIXR9xy4e",
        "colab_type": "code",
        "colab": {
          "base_uri": "https://localhost:8080/",
          "height": 102
        },
        "outputId": "7b26108e-d6be-4260-e59a-77ac5fbc3d32"
      },
      "source": [
        "for i, item in enumerate(x):\n",
        " print(i, item)"
      ],
      "execution_count": 18,
      "outputs": [
        {
          "output_type": "stream",
          "text": [
            "0 1\n",
            "1 2\n",
            "2 4\n",
            "3 8\n",
            "4 16\n"
          ],
          "name": "stdout"
        }
      ]
    },
    {
      "cell_type": "markdown",
      "metadata": {
        "id": "7SL-lW6ax5jp",
        "colab_type": "text"
      },
      "source": [
        "**what if you want to iterate over two or more sequences? Of course, you can use the range again**"
      ]
    },
    {
      "cell_type": "code",
      "metadata": {
        "id": "IBNjrz7jx_F3",
        "colab_type": "code",
        "colab": {
          "base_uri": "https://localhost:8080/",
          "height": 102
        },
        "outputId": "d85eb897-2119-41da-bd93-3c3ec45d0e77"
      },
      "source": [
        "y = 'abcde'\n",
        "for i in range(len(x)):\n",
        " print(x[i], y[i])"
      ],
      "execution_count": 19,
      "outputs": [
        {
          "output_type": "stream",
          "text": [
            "1 a\n",
            "2 b\n",
            "4 c\n",
            "8 d\n",
            "16 e\n"
          ],
          "name": "stdout"
        }
      ]
    },
    {
      "cell_type": "markdown",
      "metadata": {
        "id": "OzL5TlUMyE6_",
        "colab_type": "text"
      },
      "source": [
        "**In this case, Python also offers a better solution. You can apply zip and get tuples of the corresponding items**"
      ]
    },
    {
      "cell_type": "code",
      "metadata": {
        "id": "ouoJu3JPyJ7C",
        "colab_type": "code",
        "colab": {
          "base_uri": "https://localhost:8080/",
          "height": 102
        },
        "outputId": "e3024bbf-ea6d-4d48-f4ed-c6726b52b3d4"
      },
      "source": [
        "for item in zip(x, y):\n",
        " print(item)"
      ],
      "execution_count": 20,
      "outputs": [
        {
          "output_type": "stream",
          "text": [
            "(1, 'a')\n",
            "(2, 'b')\n",
            "(4, 'c')\n",
            "(8, 'd')\n",
            "(16, 'e')\n"
          ],
          "name": "stdout"
        }
      ]
    },
    {
      "cell_type": "markdown",
      "metadata": {
        "id": "WvFtf_7kyPFp",
        "colab_type": "text"
      },
      "source": [
        "**You can combine it with unpacking**"
      ]
    },
    {
      "cell_type": "code",
      "metadata": {
        "id": "R6HEEbdiySSW",
        "colab_type": "code",
        "colab": {
          "base_uri": "https://localhost:8080/",
          "height": 102
        },
        "outputId": "00a0fc69-37d3-4816-dff6-f062f0837a8d"
      },
      "source": [
        "for x_item, y_item in zip(x, y):\n",
        " print(x_item, y_item)"
      ],
      "execution_count": 21,
      "outputs": [
        {
          "output_type": "stream",
          "text": [
            "1 a\n",
            "2 b\n",
            "4 c\n",
            "8 d\n",
            "16 e\n"
          ],
          "name": "stdout"
        }
      ]
    },
    {
      "cell_type": "markdown",
      "metadata": {
        "id": "UNDCOQfVyYlH",
        "colab_type": "text"
      },
      "source": [
        "**Dictionary can be iterated in these two ways**"
      ]
    },
    {
      "cell_type": "code",
      "metadata": {
        "id": "m6WM-VPOyc0e",
        "colab_type": "code",
        "colab": {
          "base_uri": "https://localhost:8080/",
          "height": 51
        },
        "outputId": "4c6c4719-99f8-4d6f-d4ad-936822b007fa"
      },
      "source": [
        "z = {'a': 0, 'b': 1}\n",
        "for k in z:\n",
        " print(k, z[k])"
      ],
      "execution_count": 22,
      "outputs": [
        {
          "output_type": "stream",
          "text": [
            "a 0\n",
            "b 1\n"
          ],
          "name": "stdout"
        }
      ]
    },
    {
      "cell_type": "code",
      "metadata": {
        "id": "Shyo-krBymMB",
        "colab_type": "code",
        "colab": {
          "base_uri": "https://localhost:8080/",
          "height": 51
        },
        "outputId": "12aeffc8-2e44-4a21-db42-1367d3c56d50"
      },
      "source": [
        "for k, v in z.items():\n",
        " print(k, v)"
      ],
      "execution_count": 23,
      "outputs": [
        {
          "output_type": "stream",
          "text": [
            "a 0\n",
            "b 1\n"
          ],
          "name": "stdout"
        }
      ]
    },
    {
      "cell_type": "markdown",
      "metadata": {
        "id": "IOQ4qL_LyjHl",
        "colab_type": "text"
      },
      "source": [
        "**Comparing to Zero**"
      ]
    },
    {
      "cell_type": "code",
      "metadata": {
        "id": "7gkWQ1WtysPN",
        "colab_type": "code",
        "colab": {
          "base_uri": "https://localhost:8080/",
          "height": 85
        },
        "outputId": "a883b773-f072-42d6-8842-1852c591e0b6"
      },
      "source": [
        "#When you have numeric data, and you need to check if the numbers are equal to zero, you can but don’t have to use the comparison operators == and !=:\n",
        "#To print only non zero values from tuple x\n",
        "x = (1, 2, 0, 3, 0, 4)\n",
        "for item in x:\n",
        " if item != 0:\n",
        "  print(item)"
      ],
      "execution_count": 24,
      "outputs": [
        {
          "output_type": "stream",
          "text": [
            "1\n",
            "2\n",
            "3\n",
            "4\n"
          ],
          "name": "stdout"
        }
      ]
    },
    {
      "cell_type": "code",
      "metadata": {
        "id": "6FdF891wzL9c",
        "colab_type": "code",
        "colab": {
          "base_uri": "https://localhost:8080/",
          "height": 85
        },
        "outputId": "c0f69a6d-2c85-49f4-c83b-1f434e3973d1"
      },
      "source": [
        "for item in x:\n",
        " if item:\n",
        "  print(item)"
      ],
      "execution_count": 25,
      "outputs": [
        {
          "output_type": "stream",
          "text": [
            "1\n",
            "2\n",
            "3\n",
            "4\n"
          ],
          "name": "stdout"
        }
      ]
    },
    {
      "cell_type": "markdown",
      "metadata": {
        "id": "A0QrBp7uzVVx",
        "colab_type": "text"
      },
      "source": [
        "**Avoiding Mutable Optional Arguments**"
      ]
    },
    {
      "cell_type": "code",
      "metadata": {
        "id": "K__bCKYIzgj0",
        "colab_type": "code",
        "colab": {
          "base_uri": "https://localhost:8080/",
          "height": 34
        },
        "outputId": "ff625ac4-307a-49f9-a267-a30a884a72fc"
      },
      "source": [
        "def func(value, seq=[]):\n",
        " seq.append(value)\n",
        " return seq\n",
        "print(func(value=2))"
      ],
      "execution_count": 26,
      "outputs": [
        {
          "output_type": "stream",
          "text": [
            "[2]\n"
          ],
          "name": "stdout"
        }
      ]
    },
    {
      "cell_type": "code",
      "metadata": {
        "id": "2S2cfLGlzmVS",
        "colab_type": "code",
        "colab": {
          "base_uri": "https://localhost:8080/",
          "height": 68
        },
        "outputId": "1bc2a04e-430e-4e95-f996-b2e79ab2d7f6"
      },
      "source": [
        "print(func(value=4))\n",
        "print(func(value=6))\n",
        "print(func(value=8))"
      ],
      "execution_count": 27,
      "outputs": [
        {
          "output_type": "stream",
          "text": [
            "[2, 4]\n",
            "[2, 4, 6]\n",
            "[2, 4, 6, 8]\n"
          ],
          "name": "stdout"
        }
      ]
    },
    {
      "cell_type": "markdown",
      "metadata": {
        "id": "bEsPeWjHzp79",
        "colab_type": "text"
      },
      "source": [
        "**keep away from that with some additional logic**"
      ]
    },
    {
      "cell_type": "code",
      "metadata": {
        "id": "ungg3Wzcztf3",
        "colab_type": "code",
        "colab": {
          "base_uri": "https://localhost:8080/",
          "height": 34
        },
        "outputId": "801986ae-b73c-4e7a-9678-1005c505685d"
      },
      "source": [
        "def func(value, seq=None):\n",
        " if seq is None:\n",
        "  seq = []\n",
        "  seq.append(value)\n",
        "  return seq\n",
        "print(func(value=6))"
      ],
      "execution_count": 28,
      "outputs": [
        {
          "output_type": "stream",
          "text": [
            "[6]\n"
          ],
          "name": "stdout"
        }
      ]
    }
  ]
}