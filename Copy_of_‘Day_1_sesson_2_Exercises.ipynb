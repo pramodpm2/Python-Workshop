{
  "nbformat": 4,
  "nbformat_minor": 0,
  "metadata": {
    "colab": {
      "name": "Copy of ‘Day 1 sesson 2 Exercises.ipynb",
      "provenance": [],
      "collapsed_sections": [],
      "mount_file_id": "1qTIkITA9HAKgJOZZpYNdtpTSppx2uZOn",
      "authorship_tag": "ABX9TyM8FoHK0zjQOHDXWAcxBo+2",
      "include_colab_link": true
    },
    "kernelspec": {
      "name": "python3",
      "display_name": "Python 3"
    }
  },
  "cells": [
    {
      "cell_type": "markdown",
      "metadata": {
        "id": "view-in-github",
        "colab_type": "text"
      },
      "source": [
        "<a href=\"https://colab.research.google.com/github/pramodpm2/Python-Workshop/blob/master/Copy_of_%E2%80%98Day_1_sesson_2_Exercises.ipynb\" target=\"_parent\"><img src=\"https://colab.research.google.com/assets/colab-badge.svg\" alt=\"Open In Colab\"/></a>"
      ]
    },
    {
      "cell_type": "markdown",
      "metadata": {
        "id": "DVAeXvvND96s",
        "colab_type": "text"
      },
      "source": [
        " \n",
        " \n",
        " 1 Write a program to print the triangle \n",
        "i/p  4\n",
        " \n",
        "1\n",
        "2    3\n",
        "3    4   5\n",
        "4    5   6   7"
      ]
    },
    {
      "cell_type": "code",
      "metadata": {
        "id": "2peZHKNvEAci",
        "colab_type": "code",
        "colab": {
          "base_uri": "https://localhost:8080/",
          "height": 119
        },
        "outputId": "295950fd-1294-487a-b2aa-ac80bc8ec10c"
      },
      "source": [
        " \n",
        "n=int(input('Enter A  Number: '))\n",
        "count=0\n",
        " \n",
        "for j in range(0,n+1):\n",
        "    for i in range(0,j):\n",
        "        count=count+1\n",
        "        print(count,end=' ')\n",
        "    print('')\n",
        "    if count>1:\n",
        "        count=count-1"
      ],
      "execution_count": null,
      "outputs": [
        {
          "output_type": "stream",
          "text": [
            "Enter A  Number: 4\n",
            "\n",
            "1 \n",
            "2 3 \n",
            "3 4 5 \n",
            "5 6 7 8 \n"
          ],
          "name": "stdout"
        }
      ]
    },
    {
      "cell_type": "markdown",
      "metadata": {
        "id": "AGFGWzsOIpjI",
        "colab_type": "text"
      },
      "source": [
        " Enter number 4\n",
        " \n",
        "*\n",
        "* *\n",
        "* * *\n",
        "* * * *"
      ]
    },
    {
      "cell_type": "code",
      "metadata": {
        "id": "DNAzMmPRIvlK",
        "colab_type": "code",
        "colab": {
          "base_uri": "https://localhost:8080/",
          "height": 136
        },
        "outputId": "bbaa4162-d559-405e-fe38-6f151bce697b"
      },
      "source": [
        " \n",
        "n=int(input('Enter A  Number: '))\n",
        "for j in range(0,n+1):\n",
        "    for i in range(0,j):\n",
        "        print('*',end='')\n",
        "    print('')"
      ],
      "execution_count": null,
      "outputs": [
        {
          "output_type": "stream",
          "text": [
            "Enter A  Number: 5\n",
            "\n",
            "*\n",
            "**\n",
            "***\n",
            "****\n",
            "*****\n"
          ],
          "name": "stdout"
        }
      ]
    },
    {
      "cell_type": "markdown",
      "metadata": {
        "id": "VAx_bux9qb0m",
        "colab_type": "text"
      },
      "source": [
        " Enter number 5\n",
        " \n",
        "5\n",
        "4 5\n",
        "3 4 5\n",
        "2 3 4 5\n",
        "1 2 3 4 5"
      ]
    },
    {
      "cell_type": "code",
      "metadata": {
        "id": "rt3htxezqc4X",
        "colab_type": "code",
        "colab": {
          "base_uri": "https://localhost:8080/",
          "height": 136
        },
        "outputId": "66a56d78-fb00-42ff-ab7f-0840c7488523"
      },
      "source": [
        " \n",
        "n=int(input('Enter A  Number: '))\n",
        "count=n\n",
        "for i in range(0,n+1):\n",
        "     for j in range(0,i):\n",
        "            print(count+1,end=' ')\n",
        "            count=count+1   \n",
        "     print('')\n",
        "     count=count-(i+1)"
      ],
      "execution_count": null,
      "outputs": [
        {
          "output_type": "stream",
          "text": [
            "Enter A  Number: 5\n",
            "\n",
            "5 \n",
            "4 5 \n",
            "3 4 5 \n",
            "2 3 4 5 \n",
            "1 2 3 4 5 \n"
          ],
          "name": "stdout"
        }
      ]
    },
    {
      "cell_type": "markdown",
      "metadata": {
        "id": "JsIaK38EqvPh",
        "colab_type": "text"
      },
      "source": [
        " Enter number 5\n",
        " \n",
        "5 4 3 2 1\n",
        "4 3 2 1\n",
        "3 2 1\n",
        "2 1\n",
        "1"
      ]
    },
    {
      "cell_type": "code",
      "metadata": {
        "id": "RcDCltz7qzHG",
        "colab_type": "code",
        "colab": {
          "base_uri": "https://localhost:8080/",
          "height": 119
        },
        "outputId": "bff44680-18a8-4b6e-ccb7-1f0a3cf476d5"
      },
      "source": [
        " \n",
        "n=int(input('Enter A  Number: '))\n",
        "count=n\n",
        "for i in range(0,n,1):\n",
        "    for j in range(i,n):\n",
        "        print(count,end='')\n",
        "        count=count-1  \n",
        "    count=n-(i+1)\n",
        "    print('')"
      ],
      "execution_count": null,
      "outputs": [
        {
          "output_type": "stream",
          "text": [
            "Enter A  Number: 5\n",
            "54321\n",
            "4321\n",
            "321\n",
            "21\n",
            "1\n"
          ],
          "name": "stdout"
        }
      ]
    },
    {
      "cell_type": "markdown",
      "metadata": {
        "id": "HUv429ZDtV4J",
        "colab_type": "text"
      },
      "source": [
        "  Find the length of a string without using len functions"
      ]
    },
    {
      "cell_type": "code",
      "metadata": {
        "id": "rFU3oRTltW_l",
        "colab_type": "code",
        "colab": {
          "base_uri": "https://localhost:8080/",
          "height": 51
        },
        "outputId": "95ccde6d-82d3-4c48-a7ac-5e2fcfefdc61"
      },
      "source": [
        " \n",
        "s=input('Enter The String: ')\n",
        "len=0\n",
        "for i in s:\n",
        "    len=len+1\n",
        "print('Length Of String Is: ',len)"
      ],
      "execution_count": null,
      "outputs": [
        {
          "output_type": "stream",
          "text": [
            "Enter The String: Little India\n",
            "Length Of String Is:  12\n"
          ],
          "name": "stdout"
        }
      ]
    },
    {
      "cell_type": "markdown",
      "metadata": {
        "id": "YrL1L6f9tdsU",
        "colab_type": "text"
      },
      "source": [
        "  Find the no of words and characters in a string"
      ]
    },
    {
      "cell_type": "code",
      "metadata": {
        "id": "PpMHhLPsuvxm",
        "colab_type": "code",
        "colab": {
          "base_uri": "https://localhost:8080/",
          "height": 68
        },
        "outputId": "7ee2229f-b47d-43d2-877e-47da7c56a371"
      },
      "source": [
        " \n",
        "s=input('Enter Your String: ')\n",
        "p=s.split()\n",
        "len=0\n",
        "count=0\n",
        "for i in s:\n",
        "    if i!=' ':\n",
        "        len=len+1\n",
        "for j in p:\n",
        "    count=count+1\n",
        "print('Number Of Character In A String: ',len)\n",
        "print('Number Of Words In A String: ',count)"
      ],
      "execution_count": null,
      "outputs": [
        {
          "output_type": "stream",
          "text": [
            "Enter Your String: Hehe her she ww\n",
            "Number Of Character In A String:  12\n",
            "Number Of Words In A String:  4\n"
          ],
          "name": "stdout"
        }
      ]
    },
    {
      "cell_type": "markdown",
      "metadata": {
        "id": "zubO2EzPu5Mw",
        "colab_type": "text"
      },
      "source": [
        " Find the no of occurrences of a word in a string"
      ]
    },
    {
      "cell_type": "code",
      "metadata": {
        "id": "vngXRurbzUuM",
        "colab_type": "code",
        "colab": {
          "base_uri": "https://localhost:8080/",
          "height": 105
        },
        "outputId": "d3102c4f-1713-446f-bb75-3619177953e6"
      },
      "source": [
        " \n",
        "s=input('Enter A String: ')\n",
        "p=s.split()\n",
        "a=[]\n",
        "count=0\n",
        "for i in p:\n",
        "    if i not in a:\n",
        "        a.append(i)\n",
        "for i in a:\n",
        "    count=s.count(i)    \n",
        "    print(i,'Count Is: ',count)"
      ],
      "execution_count": null,
      "outputs": [
        {
          "output_type": "stream",
          "text": [
            "Enter A String: hello world hello India\n",
            "hello Count Is:  2\n",
            "world Count Is:  1\n",
            "India Count Is:  1\n"
          ],
          "name": "stdout"
        }
      ]
    }
  ]
}