{
  "nbformat": 4,
  "nbformat_minor": 0,
  "metadata": {
    "colab": {
      "name": "Day 2 session 2 sample.ipynb",
      "provenance": [],
      "collapsed_sections": [],
      "include_colab_link": true
    },
    "kernelspec": {
      "name": "python3",
      "display_name": "Python 3"
    }
  },
  "cells": [
    {
      "cell_type": "markdown",
      "metadata": {
        "id": "view-in-github",
        "colab_type": "text"
      },
      "source": [
        "<a href=\"https://colab.research.google.com/github/pramodpm2/Python-Workshop/blob/master/Day_2_session_2_sample.ipynb\" target=\"_parent\"><img src=\"https://colab.research.google.com/assets/colab-badge.svg\" alt=\"Open In Colab\"/></a>"
      ]
    },
    {
      "cell_type": "markdown",
      "metadata": {
        "id": "eyCHXmtspu-Y",
        "colab_type": "text"
      },
      "source": [
        "\n",
        "**Dictionary Worked out Examples**\n",
        "\n"
      ]
    },
    {
      "cell_type": "markdown",
      "metadata": {
        "id": "UelQ_pQQrW54",
        "colab_type": "text"
      },
      "source": [
        "**Python Program to Generate a Dictionary that Contains Numbers (between 1 and n) in the Form (x,x*x).** \n"
      ]
    },
    {
      "cell_type": "code",
      "metadata": {
        "id": "YjZnVWPVrjDx",
        "colab_type": "code",
        "colab": {
          "base_uri": "https://localhost:8080/",
          "height": 51
        },
        "outputId": "1971a900-e6f0-43db-bbec-c0ef524ba254"
      },
      "source": [
        "n=int(input(\"Enter a number:\"))\n",
        "d={x:x*x for x in range(1,n+1)}\n",
        "print(d)"
      ],
      "execution_count": null,
      "outputs": [
        {
          "output_type": "stream",
          "text": [
            "Enter a number:5\n",
            "{1: 1, 2: 4, 3: 9, 4: 16, 5: 25}\n"
          ],
          "name": "stdout"
        }
      ]
    },
    {
      "cell_type": "markdown",
      "metadata": {
        "id": "0wZHT8LQrmn1",
        "colab_type": "text"
      },
      "source": [
        "**Python Program to Sum All the Items in a Dictionary**"
      ]
    },
    {
      "cell_type": "code",
      "metadata": {
        "id": "wy8f-sK3rwY3",
        "colab_type": "code",
        "colab": {
          "base_uri": "https://localhost:8080/",
          "height": 51
        },
        "outputId": "a390e1f8-2796-469f-95a6-e4a71697432e"
      },
      "source": [
        "d={'A':100,'B':540,'C':239}\n",
        "print(\"Total sum of values in the dictionary:\")\n",
        "print(sum(d.values()))"
      ],
      "execution_count": null,
      "outputs": [
        {
          "output_type": "stream",
          "text": [
            "Total sum of values in the dictionary:\n",
            "879\n"
          ],
          "name": "stdout"
        }
      ]
    },
    {
      "cell_type": "markdown",
      "metadata": {
        "id": "i3HDvVALr4nn",
        "colab_type": "text"
      },
      "source": [
        "**Python Program to Remove the Given Key from a Dictionary**"
      ]
    },
    {
      "cell_type": "code",
      "metadata": {
        "id": "_7iSPOGMr6YZ",
        "colab_type": "code",
        "colab": {
          "base_uri": "https://localhost:8080/",
          "height": 102
        },
        "outputId": "9a604839-3fd2-44ee-af24-a07865a27be2"
      },
      "source": [
        "d = {'a':1,'b':2,'c':3,'d':4}\n",
        "print(\"Initial dictionary\")\n",
        "print(d)\n",
        "key=input(\"Enter the key to delete(a-d):\")\n",
        "if key in d: \n",
        "    del d[key]\n",
        "else:\n",
        "    print(\"Key not found!\")\n",
        "    exit(0)\n",
        "print(\"Updated dictionary\")\n",
        "print(d)"
      ],
      "execution_count": null,
      "outputs": [
        {
          "output_type": "stream",
          "text": [
            "Initial dictionary\n",
            "{'a': 1, 'b': 2, 'c': 3, 'd': 4}\n",
            "Enter the key to delete(a-d):d\n",
            "Updated dictionary\n",
            "{'a': 1, 'b': 2, 'c': 3}\n"
          ],
          "name": "stdout"
        }
      ]
    },
    {
      "cell_type": "markdown",
      "metadata": {
        "id": "pus1tYKwsCbN",
        "colab_type": "text"
      },
      "source": [
        "**Python Program to add name and mark as key->value pair in  a Dictionary and print it**"
      ]
    },
    {
      "cell_type": "code",
      "metadata": {
        "id": "5XmM1YVzsKJX",
        "colab_type": "code",
        "colab": {
          "base_uri": "https://localhost:8080/",
          "height": 136
        },
        "outputId": "03cefb4b-ba71-44e7-c3a0-44a1eaf2f053"
      },
      "source": [
        "n=int(input(\"Enter no of records\"))\n",
        "d={}\n",
        "for i in range(1,n+1):\n",
        "    name= input(\"Enter name %d\"%(i))\n",
        "    mark=int(input(\"Enter mark %d\"%(i)))\n",
        "    d[name]=mark\n",
        "    print (d)"
      ],
      "execution_count": null,
      "outputs": [
        {
          "output_type": "stream",
          "text": [
            "Enter no of records2\n",
            "Enter name 1John\n",
            "Enter mark 11234\n",
            "{'John': 1234}\n",
            "Enter name 2Pramod\n",
            "Enter mark 23536\n",
            "{'John': 1234, 'Pramod': 3536}\n"
          ],
          "name": "stdout"
        }
      ]
    },
    {
      "cell_type": "markdown",
      "metadata": {
        "id": "iO3niYsesrYH",
        "colab_type": "text"
      },
      "source": [
        "**Keys and Values example**"
      ]
    },
    {
      "cell_type": "code",
      "metadata": {
        "id": "oIg86MSYsxbP",
        "colab_type": "code",
        "colab": {
          "base_uri": "https://localhost:8080/",
          "height": 1000
        },
        "outputId": "bff62ac9-c8e3-4332-f899-d380e4b221ca"
      },
      "source": [
        "# Keys and Values example\n",
        "d={}\n",
        "print (\" The dictionary elements are\")\n",
        "for i in range(1,21):\n",
        "    d[i]=i**2\n",
        "print (d)\n",
        "# To print key and values\n",
        "print (\" Key==> Value are\")\n",
        "for (k,v) in d.items(): \n",
        "    print(k,\"==>\",v)\n",
        "# To print key only\n",
        "print (\"\\nTo print key only\")\n",
        "for k in d.keys():  \n",
        "     print(k, end=\" \")\n",
        "#To print value only\n",
        "print (\"\\nTo print values only\")\n",
        "for v in d.values():    \n",
        "    print(v, end=\" \")"
      ],
      "execution_count": null,
      "outputs": [
        {
          "output_type": "stream",
          "text": [
            " The dictionary elements are\n",
            "{1: 1, 2: 4, 3: 9, 4: 16, 5: 25, 6: 36, 7: 49, 8: 64, 9: 81, 10: 100, 11: 121, 12: 144, 13: 169, 14: 196, 15: 225, 16: 256, 17: 289, 18: 324, 19: 361, 20: 400}\n",
            " Key==> Value are\n",
            "1 ==> 1\n",
            "2 ==> 4\n",
            "3 ==> 9\n",
            "4 ==> 16\n",
            "5 ==> 25\n",
            "6 ==> 36\n",
            "7 ==> 49\n",
            "8 ==> 64\n",
            "9 ==> 81\n",
            "10 ==> 100\n",
            "11 ==> 121\n",
            "12 ==> 144\n",
            "13 ==> 169\n",
            "14 ==> 196\n",
            "15 ==> 225\n",
            "16 ==> 256\n",
            "17 ==> 289\n",
            "18 ==> 324\n",
            "19 ==> 361\n",
            "20 ==> 400\n",
            "\n",
            "To print key only\n",
            "1 2 3 4 5 6 7 8 9 10 11 12 13 14 15 16 17 18 19 20 \n",
            "To print values only\n",
            "1 4 9 16 25 36 49 64 81 100 121 144 169 196 225 256 289 324 361 400 "
          ],
          "name": "stdout"
        }
      ]
    },
    {
      "cell_type": "markdown",
      "metadata": {
        "id": "jz5aSxNUusYT",
        "colab_type": "text"
      },
      "source": [
        "**Python program to convert 2 digit number  into words**"
      ]
    },
    {
      "cell_type": "code",
      "metadata": {
        "id": "8GQK9oyru1vR",
        "colab_type": "code",
        "colab": {
          "base_uri": "https://localhost:8080/",
          "height": 51
        },
        "outputId": "49f1735a-3322-42f4-e2bc-68577887a929"
      },
      "source": [
        "d={0:'',1:'one',2:'two',3:'three',4:'four',5:'five',6:'six',7:'seven',8:'eight',9:'nine',\\\n",
        "   10:'ten',11:'eleven',12:'twelve',13:'thirteen',14:'fourteen',15:'fifteen',16:'sixteen',\\\n",
        "   17:'seventeen',18:'eightteen',19:'nineteen',20:'twenty',30:'thirty',40:'fourty',50:'fifty',\\\n",
        "   60:'sixty',70:'seventy',80:'eighty',90:'ninty'}\n",
        " \n",
        "num=int(input(\"Enter the integer between 1 to 99:\"))\n",
        "if (num<=20):\n",
        "      print(d[num])\n",
        "if(num>20 and num<100):\n",
        "        if num%10==0:       \n",
        "            print(d[num])\n",
        "        else:\n",
        "            print(d[num//10*10]+\" \"+d[num%10])"
      ],
      "execution_count": null,
      "outputs": [
        {
          "output_type": "stream",
          "text": [
            "Enter the integer between 1 to 99:99\n",
            "ninty nine\n"
          ],
          "name": "stdout"
        }
      ]
    },
    {
      "cell_type": "markdown",
      "metadata": {
        "id": "UCdZRWp6vFj-",
        "colab_type": "text"
      },
      "source": [
        "**How to sort a dictionary by values in Python**"
      ]
    },
    {
      "cell_type": "code",
      "metadata": {
        "id": "kJDVHpNOvLU7",
        "colab_type": "code",
        "colab": {
          "base_uri": "https://localhost:8080/",
          "height": 51
        },
        "outputId": "7b753f32-032c-4e4c-bb10-b1802628c7a4"
      },
      "source": [
        "d = {\"Pierre\": 42, \"Anne\": 33, \"Zoe\": 24}\n",
        "#Use the sorted function and operator module\n",
        "import operator\n",
        "sorted_d = sorted(d.items(), key=operator.itemgetter(1))\n",
        "print(sorted_d)\n",
        "sorted_a= sorted(d.items(), key=operator.itemgetter(1),reverse=True)\n",
        "print(sorted_a)"
      ],
      "execution_count": null,
      "outputs": [
        {
          "output_type": "stream",
          "text": [
            "[('Zoe', 24), ('Anne', 33), ('Pierre', 42)]\n",
            "[('Pierre', 42), ('Anne', 33), ('Zoe', 24)]\n"
          ],
          "name": "stdout"
        }
      ]
    },
    {
      "cell_type": "markdown",
      "metadata": {
        "id": "hOxjrk3_vWLj",
        "colab_type": "text"
      },
      "source": [
        "**Files Examples**"
      ]
    },
    {
      "cell_type": "code",
      "metadata": {
        "id": "q07KJkoqB_jg",
        "colab_type": "code",
        "colab": {
          "base_uri": "https://localhost:8080/",
          "height": 34
        },
        "outputId": "9cae7ff7-3082-445f-9ad1-933cd83cc12e"
      },
      "source": [
        "from google.colab import drive\n",
        "drive.mount('/content/gdrive',force_remount=True)"
      ],
      "execution_count": null,
      "outputs": [
        {
          "output_type": "stream",
          "text": [
            "Mounted at /content/gdrive\n"
          ],
          "name": "stdout"
        }
      ]
    },
    {
      "cell_type": "markdown",
      "metadata": {
        "id": "4naZYJBgvd9C",
        "colab_type": "text"
      },
      "source": [
        "**Python Program to count the number of lines in a text file.**"
      ]
    },
    {
      "cell_type": "code",
      "metadata": {
        "id": "kJVAlukjvX_X",
        "colab_type": "code",
        "colab": {
          "base_uri": "https://localhost:8080/",
          "height": 34
        },
        "outputId": "bbcbb5c7-2853-45c7-cd06-6742a48df6f5"
      },
      "source": [
        "# Python Program to count the number of lines in a text file. \n",
        "from google.colab import drive\n",
        "drive.mount('/gdrive',force_remount=True)\n",
        "#Python Program to count the number of lines in a text file. \n",
        "file='/gdrive/My Drive/first.txt'\n",
        "num_lines = 0\n",
        "with open(file, 'r') as f:\n",
        " for line in f:\n",
        "   num_lines += 1\n",
        "   print(\"Number of lines:\")\n",
        "   print(num_lines)"
      ],
      "execution_count": 57,
      "outputs": [
        {
          "output_type": "stream",
          "text": [
            "Mounted at /gdrive\n"
          ],
          "name": "stdout"
        }
      ]
    },
    {
      "cell_type": "markdown",
      "metadata": {
        "id": "xEvTAkHxw5XJ",
        "colab_type": "text"
      },
      "source": [
        "**Python Program to count the number of words in a text file.**"
      ]
    },
    {
      "cell_type": "code",
      "metadata": {
        "id": "OF3yVBWSw7Dt",
        "colab_type": "code",
        "colab": {}
      },
      "source": [
        "#Python Program to count the number of lines in a text file. \n",
        "file='/gdrive/My Drive/first.txt'\n",
        "num_words = 0\n",
        "with open(file, 'r') as f:\n",
        " for line in f:\n",
        "   words = line.split()\n",
        "   print(words)\n",
        "   num_words += len(words)\n",
        "   print(\"Number of words:\")\n",
        "   print(num_words)"
      ],
      "execution_count": 58,
      "outputs": []
    },
    {
      "cell_type": "markdown",
      "metadata": {
        "id": "yejs7qOMGSCF",
        "colab_type": "text"
      },
      "source": [
        "**Python Program to count the occurrences of a word in a text file.**"
      ]
    },
    {
      "cell_type": "code",
      "metadata": {
        "id": "7M3MxsjzGYwO",
        "colab_type": "code",
        "colab": {
          "base_uri": "https://localhost:8080/",
          "height": 335
        },
        "outputId": "e3bfe267-a491-4dc4-c965-5f60f1553ec9"
      },
      "source": [
        "fname = '/gdrive/My Drive/first.txt'\n",
        "word=input(\"Enter word to be searched:\")\n",
        "k = 0\n",
        " \n",
        "with open(fname, 'r') as f:\n",
        " for line in f:\n",
        "  words = line.split()\n",
        " for i in words:\n",
        "  if(i==words):\n",
        "   k=k+1\n",
        "  print(\"Occurrences of the word:\")\n",
        "  print(k)"
      ],
      "execution_count": 64,
      "outputs": [
        {
          "output_type": "stream",
          "text": [
            "Enter word to be searched:sjsjdb\n"
          ],
          "name": "stdout"
        },
        {
          "output_type": "error",
          "ename": "NameError",
          "evalue": "ignored",
          "traceback": [
            "\u001b[0;31m---------------------------------------------------------------------------\u001b[0m",
            "\u001b[0;31mNameError\u001b[0m                                 Traceback (most recent call last)",
            "\u001b[0;32m<ipython-input-64-9fe2a15d7fce>\u001b[0m in \u001b[0;36m<module>\u001b[0;34m()\u001b[0m\n\u001b[1;32m      6\u001b[0m  \u001b[0;32mfor\u001b[0m \u001b[0mline\u001b[0m \u001b[0;32min\u001b[0m \u001b[0mf\u001b[0m\u001b[0;34m:\u001b[0m\u001b[0;34m\u001b[0m\u001b[0;34m\u001b[0m\u001b[0m\n\u001b[1;32m      7\u001b[0m   \u001b[0mwords\u001b[0m \u001b[0;34m=\u001b[0m \u001b[0mline\u001b[0m\u001b[0;34m.\u001b[0m\u001b[0msplit\u001b[0m\u001b[0;34m(\u001b[0m\u001b[0;34m)\u001b[0m\u001b[0;34m\u001b[0m\u001b[0;34m\u001b[0m\u001b[0m\n\u001b[0;32m----> 8\u001b[0;31m  \u001b[0;32mfor\u001b[0m \u001b[0mi\u001b[0m \u001b[0;32min\u001b[0m \u001b[0mwords\u001b[0m\u001b[0;34m:\u001b[0m\u001b[0;34m\u001b[0m\u001b[0;34m\u001b[0m\u001b[0m\n\u001b[0m\u001b[1;32m      9\u001b[0m   \u001b[0;32mif\u001b[0m\u001b[0;34m(\u001b[0m\u001b[0mi\u001b[0m\u001b[0;34m==\u001b[0m\u001b[0mwords\u001b[0m\u001b[0;34m)\u001b[0m\u001b[0;34m:\u001b[0m\u001b[0;34m\u001b[0m\u001b[0;34m\u001b[0m\u001b[0m\n\u001b[1;32m     10\u001b[0m    \u001b[0mk\u001b[0m\u001b[0;34m=\u001b[0m\u001b[0mk\u001b[0m\u001b[0;34m+\u001b[0m\u001b[0;36m1\u001b[0m\u001b[0;34m\u001b[0m\u001b[0;34m\u001b[0m\u001b[0m\n",
            "\u001b[0;31mNameError\u001b[0m: name 'words' is not defined"
          ]
        }
      ]
    },
    {
      "cell_type": "markdown",
      "metadata": {
        "id": "zKgVVhI6G4xW",
        "colab_type": "text"
      },
      "source": [
        "**Python Program to copy the contents of one file into another.**"
      ]
    },
    {
      "cell_type": "code",
      "metadata": {
        "id": "XauUV8ciG8-0",
        "colab_type": "code",
        "colab": {}
      },
      "source": [
        "file1 = '/gdrive/My Drive/first.txt'\n",
        "file2 = '/gdrive/My Drive/second.txt'\n",
        " \n",
        "with open(file1,'r') as f:\n",
        " with open(file2, \"w\") as f1:\n",
        "  for line in f:\n",
        "   f1.write(line)"
      ],
      "execution_count": 62,
      "outputs": []
    },
    {
      "cell_type": "markdown",
      "metadata": {
        "id": "bgzljxeBIo2r",
        "colab_type": "text"
      },
      "source": [
        "**Python Program to read the contents of the file in reverse order.**"
      ]
    },
    {
      "cell_type": "code",
      "metadata": {
        "id": "KBUJ7KrgIs6O",
        "colab_type": "code",
        "colab": {}
      },
      "source": [
        "file = '/gdrive/My Drive/first.txt'\n",
        "with open (file,'r') as f:\n",
        " for line in f:\n",
        "  l=line.split()\n",
        "  l.reverse() \n",
        "  st= \" \".join(l)\n",
        "  print (st)"
      ],
      "execution_count": 63,
      "outputs": []
    }
  ]
}