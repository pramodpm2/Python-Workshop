{
  "nbformat": 4,
  "nbformat_minor": 0,
  "metadata": {
    "colab": {
      "name": "Day 2 sesson 1 Exercise programs",
      "provenance": [],
      "collapsed_sections": [],
      "include_colab_link": true
    },
    "kernelspec": {
      "name": "python3",
      "display_name": "Python 3"
    }
  },
  "cells": [
    {
      "cell_type": "markdown",
      "metadata": {
        "id": "view-in-github",
        "colab_type": "text"
      },
      "source": [
        "<a href=\"https://colab.research.google.com/github/pramodpm2/Python-Workshop/blob/master/Day_2_sesson_1_Exercise_programs.ipynb\" target=\"_parent\"><img src=\"https://colab.research.google.com/assets/colab-badge.svg\" alt=\"Open In Colab\"/></a>"
      ]
    },
    {
      "cell_type": "markdown",
      "metadata": {
        "id": "xjvJj_J0QD_-",
        "colab_type": "text"
      },
      "source": [
        " print multiples of 3 upto 200 using a list"
      ]
    },
    {
      "cell_type": "code",
      "metadata": {
        "id": "SGoFmu7IQH-F",
        "colab_type": "code",
        "colab": {
          "base_uri": "https://localhost:8080/",
          "height": 54
        },
        "outputId": "49ab6b74-e132-4078-b3e1-1770900432a8"
      },
      "source": [
        "list= [ x for x in range(200) if x % 3 == 0]\n",
        "print(list)"
      ],
      "execution_count": null,
      "outputs": [
        {
          "output_type": "stream",
          "text": [
            "[0, 3, 6, 9, 12, 15, 18, 21, 24, 27, 30, 33, 36, 39, 42, 45, 48, 51, 54, 57, 60, 63, 66, 69, 72, 75, 78, 81, 84, 87, 90, 93, 96, 99, 102, 105, 108, 111, 114, 117, 120, 123, 126, 129, 132, 135, 138, 141, 144, 147, 150, 153, 156, 159, 162, 165, 168, 171, 174, 177, 180, 183, 186, 189, 192, 195, 198]\n"
          ],
          "name": "stdout"
        }
      ]
    },
    {
      "cell_type": "markdown",
      "metadata": {
        "id": "DlWVhq8mR4Sn",
        "colab_type": "text"
      },
      "source": [
        "# print the nos only divisable by 5 and 7 between 1000 and 2000 using a list( both inclusive)"
      ]
    },
    {
      "cell_type": "code",
      "metadata": {
        "id": "GOR9BL4MSaZU",
        "colab_type": "code",
        "colab": {
          "base_uri": "https://localhost:8080/",
          "height": 54
        },
        "outputId": "74dd9010-6f2b-481d-f361-3f22e5f71bd0"
      },
      "source": [
        " \n",
        "List=[x for x in range (1000,2000) if((x % 7 ==0)and (x % 5) == 0)]\n",
        "print(List)"
      ],
      "execution_count": null,
      "outputs": [
        {
          "output_type": "stream",
          "text": [
            "[1015, 1050, 1085, 1120, 1155, 1190, 1225, 1260, 1295, 1330, 1365, 1400, 1435, 1470, 1505, 1540, 1575, 1610, 1645, 1680, 1715, 1750, 1785, 1820, 1855, 1890, 1925, 1960, 1995]\n"
          ],
          "name": "stdout"
        }
      ]
    },
    {
      "cell_type": "markdown",
      "metadata": {
        "id": "CuPhOsnLVVmc",
        "colab_type": "text"
      },
      "source": [
        "**bold text** Add the n number of names in a list and print them alphabetically and reverse alphabetically"
      ]
    },
    {
      "cell_type": "code",
      "metadata": {
        "id": "35iJzHrjWK-Y",
        "colab_type": "code",
        "colab": {
          "base_uri": "https://localhost:8080/",
          "height": 71
        },
        "outputId": "bad631b1-e239-4ca9-fb8d-0680e1d81b20"
      },
      "source": [
        " \n",
        "n=['yuaraj','ponic','pooja', 'prajwal', 'pramod', 'pratusha','priya','harin', 'spoorthi']\n",
        "n.sort()\n",
        "print('Names In A List In Alphabetical Order: ',n)\n",
        "n.sort(reverse=True)\n",
        "print('Names In A List In Reverse Alphabetical Order: ',n)"
      ],
      "execution_count": null,
      "outputs": [
        {
          "output_type": "stream",
          "text": [
            "Names In A List In Alphabetical Order:  ['harin', 'ponic', 'pooja', 'prajwal', 'pramod', 'pratusha', 'priya', 'spoorthi', 'yuaraj']\n",
            "Names In A List In Reverse Alphabetical Order:  ['yuaraj', 'spoorthi', 'priya', 'pratusha', 'pramod', 'prajwal', 'pooja', 'ponic', 'harin']\n"
          ],
          "name": "stdout"
        }
      ]
    },
    {
      "cell_type": "markdown",
      "metadata": {
        "id": "JKb8U9FvZabS",
        "colab_type": "text"
      },
      "source": [
        "# Print  perfect squares and divisible by 5 between 500 and 1000( (both inclusive) using list"
      ]
    },
    {
      "cell_type": "code",
      "metadata": {
        "id": "XFYwx2LvZauq",
        "colab_type": "code",
        "colab": {
          "base_uri": "https://localhost:8080/",
          "height": 34
        },
        "outputId": "8b881ef3-db91-445f-fa47-bd4161bf3e6c"
      },
      "source": [
        " \n",
        "import math\n",
        "List=[]\n",
        "for x in range(500,1000):\n",
        "    root=math.sqrt(x)\n",
        "    if int(root+0.5)**2==x:\n",
        "        if x%5==0:\n",
        "            List.append(x)\n",
        "print(List)"
      ],
      "execution_count": null,
      "outputs": [
        {
          "output_type": "stream",
          "text": [
            "[625, 900]\n"
          ],
          "name": "stdout"
        }
      ]
    },
    {
      "cell_type": "code",
      "metadata": {
        "id": "gIPW_3V1cJR8",
        "colab_type": "code",
        "colab": {}
      },
      "source": [
        " Calculate the Average of  the numbers in a List by getting the elements of list from keyboard ."
      ],
      "execution_count": null,
      "outputs": []
    },
    {
      "cell_type": "code",
      "metadata": {
        "id": "EDXSAq1ocehZ",
        "colab_type": "code",
        "colab": {
          "base_uri": "https://localhost:8080/",
          "height": 154
        },
        "outputId": "ca1f8eaf-7b17-4f8e-a5a4-a7d81b0d888a"
      },
      "source": [
        " \n",
        "import numpy as np\n",
        "List=[]\n",
        "n=int(input('Enter The Number Of Elements: ')) \n",
        " \n",
        "print('Enter The Elements: ')\n",
        "for i in range(n):\n",
        "    List.append(int(input()))\n",
        "print('Average Of The Numbers Is: ',np.mean(List))"
      ],
      "execution_count": null,
      "outputs": [
        {
          "output_type": "stream",
          "text": [
            "Enter The Number Of Elements: 5\n",
            "Enter The Elements: \n",
            "50\n",
            "24\n",
            "99\n",
            "80\n",
            "90\n",
            "Average Of The Numbers Is:  68.6\n"
          ],
          "name": "stdout"
        }
      ]
    },
    {
      "cell_type": "markdown",
      "metadata": {
        "id": "rdBkP1YYeVYY",
        "colab_type": "text"
      },
      "source": [
        " Print lists of odd,even and multiples of 5 numbers from 1 to 1000 using list comprehension"
      ]
    },
    {
      "cell_type": "code",
      "metadata": {
        "id": "0sLPRyaGekIf",
        "colab_type": "code",
        "colab": {
          "base_uri": "https://localhost:8080/",
          "height": 54
        },
        "outputId": "22fb2278-0f59-449b-a3c4-d4d5132a47b0"
      },
      "source": [
        " \n",
        "List=[x for x in range(1,1000) if ((x%2==0 or x%2!=0) and (x%5==0))]\n",
        "print(List)"
      ],
      "execution_count": null,
      "outputs": [
        {
          "output_type": "stream",
          "text": [
            "[5, 10, 15, 20, 25, 30, 35, 40, 45, 50, 55, 60, 65, 70, 75, 80, 85, 90, 95, 100, 105, 110, 115, 120, 125, 130, 135, 140, 145, 150, 155, 160, 165, 170, 175, 180, 185, 190, 195, 200, 205, 210, 215, 220, 225, 230, 235, 240, 245, 250, 255, 260, 265, 270, 275, 280, 285, 290, 295, 300, 305, 310, 315, 320, 325, 330, 335, 340, 345, 350, 355, 360, 365, 370, 375, 380, 385, 390, 395, 400, 405, 410, 415, 420, 425, 430, 435, 440, 445, 450, 455, 460, 465, 470, 475, 480, 485, 490, 495, 500, 505, 510, 515, 520, 525, 530, 535, 540, 545, 550, 555, 560, 565, 570, 575, 580, 585, 590, 595, 600, 605, 610, 615, 620, 625, 630, 635, 640, 645, 650, 655, 660, 665, 670, 675, 680, 685, 690, 695, 700, 705, 710, 715, 720, 725, 730, 735, 740, 745, 750, 755, 760, 765, 770, 775, 780, 785, 790, 795, 800, 805, 810, 815, 820, 825, 830, 835, 840, 845, 850, 855, 860, 865, 870, 875, 880, 885, 890, 895, 900, 905, 910, 915, 920, 925, 930, 935, 940, 945, 950, 955, 960, 965, 970, 975, 980, 985, 990, 995]\n"
          ],
          "name": "stdout"
        }
      ]
    },
    {
      "cell_type": "markdown",
      "metadata": {
        "id": "6rOQvv5KgG_w",
        "colab_type": "text"
      },
      "source": [
        " 1. Python Program to Create a List of Tuples with the First Element as the Number and Second Element as the Square of the Number"
      ]
    },
    {
      "cell_type": "code",
      "metadata": {
        "id": "cF3e3wYGgLao",
        "colab_type": "code",
        "colab": {
          "base_uri": "https://localhost:8080/",
          "height": 88
        },
        "outputId": "88deb4ea-01c0-4d33-a3fb-80aa487b8515"
      },
      "source": [
        " \n",
        "List=[(x,x**2) for x in range(int(input('Enter Lower Rnaage: ')),int(input('Enter Upper Range: ')))]\n",
        "print(List)"
      ],
      "execution_count": null,
      "outputs": [
        {
          "output_type": "stream",
          "text": [
            "Enter Lower Rnaage: 1\n",
            "Enter Upper Range: 10\n",
            "[(1, 1), (2, 4), (3, 9), (4, 16), (5, 25), (6, 36), (7, 49), (8, 64), (9, 81)]\n"
          ],
          "name": "stdout"
        }
      ]
    },
    {
      "cell_type": "markdown",
      "metadata": {
        "id": "eV2rVweFhSCA",
        "colab_type": "text"
      },
      "source": [
        "  Write python program to have a list of words  to sort them from  shortest to longest using list of tuples"
      ]
    },
    {
      "cell_type": "code",
      "metadata": {
        "id": "6EDJ-m8fh14Q",
        "colab_type": "code",
        "colab": {
          "base_uri": "https://localhost:8080/",
          "height": 54
        },
        "outputId": "e7ed7d27-c2f5-458a-84fb-056996f92683"
      },
      "source": [
        " \n",
        "txt = 'but soft what light in yonder window breaks'\n",
        "words = txt.split()\n",
        "t = []\n",
        "for word in words:\n",
        "   t.append((len(word), word))\n",
        "t.sort(reverse=False)\n",
        " \n",
        "res = []\n",
        "for length, word in t:\n",
        "    res.append(word)\n",
        " \n",
        "print(res)"
      ],
      "execution_count": null,
      "outputs": [
        {
          "output_type": "stream",
          "text": [
            "['in', 'but', 'soft', 'what', 'light', 'breaks', 'window', 'yonder']\n"
          ],
          "name": "stdout"
        }
      ]
    },
    {
      "cell_type": "markdown",
      "metadata": {
        "id": "cTudbEetjKAt",
        "colab_type": "text"
      },
      "source": [
        " .Write python program to get a list of tuples of Rollno,Name for 5 students through keyboard and sort them Rollno wise ascending order"
      ]
    },
    {
      "cell_type": "code",
      "metadata": {
        "id": "6YGv6PmpjV2q",
        "colab_type": "code",
        "colab": {
          "base_uri": "https://localhost:8080/",
          "height": 225
        },
        "outputId": "172de34d-9451-49f1-a9aa-e42e9595bf6b"
      },
      "source": [
        " \n",
        "List=[]\n",
        "for i in range(0,5):\n",
        "    usn=input('Enter RollNumber: ')\n",
        "    name=input('Enter Student Name: ')\n",
        "    List.append((name,usn))\n",
        " \n",
        "print(sorted(List, key = lambda x: x[1]))"
      ],
      "execution_count": null,
      "outputs": [
        {
          "output_type": "stream",
          "text": [
            "Enter RollNumber: 4al18cs058\n",
            "Enter Student Name: Pramod\n",
            "Enter RollNumber: 4al18cs088\n",
            "Enter Student Name: Spoorthi\n",
            "Enter RollNumber: 4al18cs055\n",
            "Enter Student Name: Yuvaraj\n",
            "Enter RollNumber: 4al18cs060\n",
            "Enter Student Name: Prashant\n",
            "Enter RollNumber: 4al18cs090\n",
            "Enter Student Name: Kiran\n",
            "[('Yuvaraj', '4al18cs055'), ('Pramod', '4al18cs058'), ('Prashant', '4al18cs060'), ('Spoorthi', '4al18cs088'), ('Kiran', '4al18cs090')]\n"
          ],
          "name": "stdout"
        }
      ]
    },
    {
      "cell_type": "markdown",
      "metadata": {
        "id": "JIJeGQetsrZC",
        "colab_type": "text"
      },
      "source": [
        "Write python program to get a list of tuples of Rollno,Name for 5 students through keyboard and sort them by Name wise ascending order"
      ]
    },
    {
      "cell_type": "code",
      "metadata": {
        "id": "xPOBUwvIs3Et",
        "colab_type": "code",
        "colab": {
          "base_uri": "https://localhost:8080/",
          "height": 225
        },
        "outputId": "4382d929-f3dc-44c1-e923-420ae86f3079"
      },
      "source": [
        " \n",
        "List=[]\n",
        "for i in range(0,5):\n",
        "    usn=input('Enter RollNumber: ')\n",
        "    name=input('Enter Student Name: ')\n",
        "    List.append((usn,name))\n",
        " \n",
        "print(sorted(List, key= lambda x: x[1])) "
      ],
      "execution_count": null,
      "outputs": [
        {
          "output_type": "stream",
          "text": [
            "Enter RollNumber: 4al18cs058\n",
            "Enter Student Name: pramod\n",
            "Enter RollNumber: 4al18cs088\n",
            "Enter Student Name: Spoorthi\n",
            "Enter RollNumber: 4al18cs001\n",
            "Enter Student Name: Abhi\n",
            "Enter RollNumber: 4al18cs055\n",
            "Enter Student Name: Yuvaraj\n",
            "Enter RollNumber: 4al18cs033\n",
            "Enter Student Name: Karthik\n",
            "[('4al18cs001', 'Abhi'), ('4al18cs033', 'Karthik'), ('4al18cs088', 'Spoorthi'), ('4al18cs055', 'Yuvaraj'), ('4al18cs058', 'pramod')]\n"
          ],
          "name": "stdout"
        }
      ]
    }
  ]
}